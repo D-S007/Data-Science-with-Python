{
 "cells": [
  {
   "cell_type": "markdown",
   "metadata": {},
   "source": [
    "# Importing necessary libraries for data manipulation, analysis, and machine learning\n"
   ]
  },
  {
   "cell_type": "code",
   "execution_count": 2,
   "metadata": {},
   "outputs": [],
   "source": [
    "import pandas as pd\n",
    "import numpy as np\n",
    "import matplotlib.pyplot as plt\n",
    "import seaborn as sns\n",
    "from sklearn.model_selection import train_test_split\n",
    "from sklearn.linear_model import LinearRegression\n",
    "from sklearn.metrics import mean_squared_error, r2_score\n",
    "from sklearn.preprocessing import OneHotEncoder\n",
    "from sklearn.compose import ColumnTransformer\n",
    "from sklearn.pipeline import Pipeline"
   ]
  },
  {
   "cell_type": "markdown",
   "metadata": {},
   "source": [
    "# Loading the dataset into a pandas DataFrame"
   ]
  },
  {
   "cell_type": "code",
   "execution_count": 3,
   "metadata": {},
   "outputs": [],
   "source": [
    "df = pd.read_csv('IMDb Movies India.csv', encoding='ISO-8859-1')\n",
    "\n",
    "\n",
    "# file_path = r'C:\\Users\\DS\\Desktop\\folder\\IMDb-Movies-India.csv' if data is in a different directory\n",
    "# df = pd.read_csv(file_path, encoding='ISO-8859-1')"
   ]
  },
  {
   "cell_type": "markdown",
   "metadata": {},
   "source": [
    "# Exploring the dataset to understand its structure and contents"
   ]
  },
  {
   "cell_type": "code",
   "execution_count": 4,
   "metadata": {},
   "outputs": [
    {
     "name": "stdout",
     "output_type": "stream",
     "text": [
      "First 5 rows of the dataframe:\n",
      "                                 Name    Year Duration            Genre  \\\n",
      "0                                         NaN      NaN            Drama   \n",
      "1  #Gadhvi (He thought he was Gandhi)  (2019)  109 min            Drama   \n",
      "2                         #Homecoming  (2021)   90 min   Drama, Musical   \n",
      "3                             #Yaaram  (2019)  110 min  Comedy, Romance   \n",
      "4                   ...And Once Again  (2010)  105 min            Drama   \n",
      "\n",
      "   Rating Votes            Director       Actor 1             Actor 2  \\\n",
      "0     NaN   NaN       J.S. Randhawa      Manmauji              Birbal   \n",
      "1     7.0     8       Gaurav Bakshi  Rasika Dugal      Vivek Ghamande   \n",
      "2     NaN   NaN  Soumyajit Majumdar  Sayani Gupta   Plabita Borthakur   \n",
      "3     4.4    35          Ovais Khan       Prateik          Ishita Raj   \n",
      "4     NaN   NaN        Amol Palekar  Rajat Kapoor  Rituparna Sengupta   \n",
      "\n",
      "           Actor 3  \n",
      "0  Rajendra Bhatia  \n",
      "1    Arvind Jangid  \n",
      "2       Roy Angana  \n",
      "3  Siddhant Kapoor  \n",
      "4      Antara Mali  \n"
     ]
    }
   ],
   "source": [
    "print(\"First 5 rows of the dataframe:\")\n",
    "print(df.head())  # shows first 5 entries of rows"
   ]
  },
  {
   "cell_type": "code",
   "execution_count": 5,
   "metadata": {},
   "outputs": [
    {
     "name": "stdout",
     "output_type": "stream",
     "text": [
      "\n",
      "Information about the dataframe:\n",
      "<class 'pandas.core.frame.DataFrame'>\n",
      "RangeIndex: 15509 entries, 0 to 15508\n",
      "Data columns (total 10 columns):\n",
      " #   Column    Non-Null Count  Dtype  \n",
      "---  ------    --------------  -----  \n",
      " 0   Name      15509 non-null  object \n",
      " 1   Year      14981 non-null  object \n",
      " 2   Duration  7240 non-null   object \n",
      " 3   Genre     13632 non-null  object \n",
      " 4   Rating    7919 non-null   float64\n",
      " 5   Votes     7920 non-null   object \n",
      " 6   Director  14984 non-null  object \n",
      " 7   Actor 1   13892 non-null  object \n",
      " 8   Actor 2   13125 non-null  object \n",
      " 9   Actor 3   12365 non-null  object \n",
      "dtypes: float64(1), object(9)\n",
      "memory usage: 1.2+ MB\n",
      "None\n"
     ]
    }
   ],
   "source": [
    "print(\"\\nInformation about the dataframe:\")\n",
    "print(df.info()) "
   ]
  },
  {
   "cell_type": "code",
   "execution_count": 6,
   "metadata": {},
   "outputs": [
    {
     "name": "stdout",
     "output_type": "stream",
     "text": [
      "\n",
      "Descriptive statistics of the dataframe:\n",
      "            Rating\n",
      "count  7919.000000\n",
      "mean      5.841621\n",
      "std       1.381777\n",
      "min       1.100000\n",
      "25%       4.900000\n",
      "50%       6.000000\n",
      "75%       6.800000\n",
      "max      10.000000\n"
     ]
    }
   ],
   "source": [
    "print(\"\\nDescriptive statistics of the dataframe:\")\n",
    "print(df.describe())"
   ]
  },
  {
   "cell_type": "code",
   "execution_count": 7,
   "metadata": {},
   "outputs": [
    {
     "name": "stdout",
     "output_type": "stream",
     "text": [
      "\n",
      "Column names in the DataFrame:\n",
      "Index(['Name', 'Year', 'Duration', 'Genre', 'Rating', 'Votes', 'Director',\n",
      "       'Actor 1', 'Actor 2', 'Actor 3'],\n",
      "      dtype='object')\n"
     ]
    }
   ],
   "source": [
    "# Checking the actual column names\n",
    "print(\"\\nColumn names in the DataFrame:\")\n",
    "print(df.columns)"
   ]
  },
  {
   "cell_type": "markdown",
   "metadata": {},
   "source": [
    "# Data Preprocessing\n",
    "- Preprocessing the data to handle missing values, encode categorical variables, and scale numerical features if necessary\n"
   ]
  },
  {
   "cell_type": "markdown",
   "metadata": {},
   "source": [
    "### Handling Missing Values"
   ]
  },
  {
   "cell_type": "code",
   "execution_count": 8,
   "metadata": {},
   "outputs": [
    {
     "name": "stdout",
     "output_type": "stream",
     "text": [
      "\n",
      "Missing values in each column:\n",
      "Name           0\n",
      "Year         528\n",
      "Duration    8269\n",
      "Genre       1877\n",
      "Rating      7590\n",
      "Votes       7589\n",
      "Director     525\n",
      "Actor 1     1617\n",
      "Actor 2     2384\n",
      "Actor 3     3144\n",
      "dtype: int64\n",
      "\n",
      "Missing values after dropping rows:\n",
      "Name        0\n",
      "Year        0\n",
      "Duration    0\n",
      "Genre       0\n",
      "Rating      0\n",
      "Votes       0\n",
      "Director    0\n",
      "Actor 1     0\n",
      "Actor 2     0\n",
      "Actor 3     0\n",
      "dtype: int64\n"
     ]
    }
   ],
   "source": [
    "print(\"\\nMissing values in each column:\")\n",
    "print(df.isnull().sum())  # Check for missing values\n",
    "\n",
    "df.dropna(inplace=True)  # Drop rows with missing values (or we can fill them with appropriate values)\n",
    "print(\"\\nMissing values after dropping rows:\")\n",
    "print(df.isnull().sum())  # Check for missing values again"
   ]
  },
  {
   "cell_type": "markdown",
   "metadata": {},
   "source": [
    "### Encoding Categorical Variables"
   ]
  },
  {
   "cell_type": "code",
   "execution_count": 9,
   "metadata": {},
   "outputs": [
    {
     "name": "stdout",
     "output_type": "stream",
     "text": [
      "\n",
      "Unique values in 'Genre':\n",
      "['Drama' 'Comedy, Romance' 'Comedy, Drama, Musical' 'Drama, Romance, War'\n",
      " 'Horror, Mystery, Thriller' 'Action, Crime, Thriller' 'Horror'\n",
      " 'Horror, Romance, Thriller' 'Comedy, Drama, Romance' 'Comedy, Drama'\n",
      " 'Crime, Drama, Mystery' 'Horror, Thriller' 'Comedy, Horror'\n",
      " 'Drama, Horror, Mystery' 'Action, Thriller' 'Action'\n",
      " 'Horror, Mystery, Romance' 'Horror, Mystery' 'Drama, Horror, Romance'\n",
      " 'Action, Drama, History' 'Action, Drama, War' 'Thriller' 'Comedy'\n",
      " 'Adventure, Horror, Mystery' 'Action, Sci-Fi' 'Crime, Mystery, Thriller'\n",
      " 'Drama, History' 'Sport' 'Biography, Drama, History' 'Horror, Romance'\n",
      " 'Crime, Drama' 'Adventure, Drama' 'Comedy, Mystery, Thriller'\n",
      " 'Drama, Romance' 'Crime, Thriller' 'Horror, Sci-Fi, Thriller'\n",
      " 'Drama, Mystery, Thriller' 'Drama, Family, Musical' 'Action, Comedy'\n",
      " 'Action, Adventure, Fantasy' 'Documentary' 'Drama, Horror, Musical'\n",
      " 'Action, Biography, Drama' 'Action, Fantasy, Mystery'\n",
      " 'Adventure, Drama, Mystery' 'Mystery, Thriller' 'Comedy, Crime, Drama'\n",
      " 'Musical, Romance' 'Drama, Thriller' 'Action, Adventure, Comedy'\n",
      " 'Romance' 'Action, Crime, Drama' 'Musical, Romance, Drama'\n",
      " 'Action, Sci-Fi, Thriller' 'Action, Drama, Romance' 'Mystery, Romance'\n",
      " 'Fantasy' 'Drama, Romance, Thriller' 'Drama, Family'\n",
      " 'Action, Comedy, Drama' 'Action, Drama' 'Drama, Musical, Romance'\n",
      " 'Action, Romance' 'Action, Crime' 'Action, Drama, Crime'\n",
      " 'Drama, Family, Music' 'Action, Drama, Family' 'Drama, History, Romance'\n",
      " 'Crime, Drama, Music' 'Sci-Fi' 'Comedy, Drama, Family'\n",
      " 'Crime, Mystery, Romance' 'Action, Comedy, Crime'\n",
      " 'Crime, Drama, Thriller' 'Comedy, Family, Fantasy' 'Romance, Drama'\n",
      " 'Drama, Family, Romance' 'Romance, Drama, Family'\n",
      " 'Musical, Romance, Thriller' 'Family, Musical, Romance'\n",
      " 'Musical, Drama, Romance' 'Drama, Music, Musical' 'Drama, Mystery'\n",
      " 'Adventure, Comedy, Romance' 'Action, Drama, Thriller'\n",
      " 'Crime, Drama, Horror' 'Drama, Horror, Thriller'\n",
      " 'Action, Musical, Thriller' 'Romance, Thriller' 'Drama, Music'\n",
      " 'Drama, Musical' 'Crime, Drama, Musical' 'Action, Mystery, Thriller'\n",
      " 'Action, Crime, Mystery' 'Action, Adventure, Thriller'\n",
      " 'Comedy, Romance, Sci-Fi' 'Action, Drama, Mystery'\n",
      " 'Action, Comedy, Thriller' 'Biography, Drama' 'Action, Comedy, Fantasy'\n",
      " 'Drama, Family, Horror' 'Adventure' 'Action, Adventure, Family'\n",
      " 'Action, Drama, Musical' 'Adventure, Thriller' 'Crime, Mystery'\n",
      " 'Adventure, Comedy, Drama' 'Drama, Crime' 'Drama, Fantasy, Romance'\n",
      " 'Musical, Comedy, Drama' 'Action, Comedy, Romance'\n",
      " 'Drama, History, Musical' 'Action, Crime, Horror' 'Adventure, Fantasy'\n",
      " 'Action, Drama, Fantasy' 'Adventure, Drama, Fantasy'\n",
      " 'Adventure, Fantasy, Romance' 'Action, Adventure, Drama'\n",
      " 'Action, Adventure' 'Adventure, Drama, Romance' 'Family' 'Mystery'\n",
      " 'Drama, Fantasy, Thriller' 'Musical, Fantasy' 'Documentary, Thriller'\n",
      " 'Mystery, Romance, Musical' 'History, Musical, Romance'\n",
      " 'Musical, Drama, Crime' 'Musical, Thriller, Mystery'\n",
      " 'Biography, Drama, Romance' 'Biography' 'History' 'Crime'\n",
      " 'Biography, Drama, Music' 'Drama, Sci-Fi' 'Comedy, Musical, Romance'\n",
      " 'Drama, Sport' 'Drama, Family, Comedy' 'Action, Thriller, Romance'\n",
      " 'Comedy, Romance, Thriller' 'Action, Crime, Musical'\n",
      " 'Action, Crime, Romance' 'Animation, Action, Adventure'\n",
      " 'Action, Drama, Sport' 'Documentary, History' 'Comedy, Musical'\n",
      " 'Biography, Crime, Thriller' 'Adventure, Mystery, Thriller'\n",
      " 'Biography, Drama, Sport' 'Action, Romance, Thriller'\n",
      " 'Action, Comedy, Musical' 'Crime, Drama, Romance'\n",
      " 'Mystery, Romance, Thriller' 'Action, Adventure, Musical'\n",
      " 'Crime, Musical, Mystery' 'Action, Thriller, Crime'\n",
      " 'Adventure, Comedy, Crime' 'Comedy, Horror, Musical' 'Family, Thriller'\n",
      " 'Drama, Action, Crime' 'Drama, War' 'Comedy, Drama, Thriller' 'Animation'\n",
      " 'Musical, Drama' 'Action, Drama, Horror' 'Biography, Crime, Drama'\n",
      " 'Action, Drama, Music' 'Adventure, Drama, Family'\n",
      " 'Drama, Romance, Musical' 'Musical' 'War' 'Comedy, Musical, Drama'\n",
      " 'Thriller, Musical, Mystery' 'Drama, Action, Horror'\n",
      " 'Adventure, Crime, Drama' 'Family, Romance' 'Crime, Fantasy, Mystery'\n",
      " 'Documentary, Biography, Drama' 'Action, Fantasy, Thriller'\n",
      " 'Animation, Drama, History' 'Biography, Drama, Musical'\n",
      " 'Adventure, Drama, History' 'Family, Comedy' 'Comedy, Drama, Music'\n",
      " 'Comedy, Horror, Mystery' 'Comedy, Drama, Fantasy'\n",
      " 'Documentary, History, News' 'Action, Crime, Family'\n",
      " 'Drama, Musical, Mystery' 'Comedy, Family' 'Action, Thriller, Mystery'\n",
      " 'Drama, Family, Fantasy' 'Action, Family' 'Comedy, Thriller'\n",
      " 'Action, Adventure, Mystery' 'Comedy, Action' 'Animation, Drama, Romance'\n",
      " 'Comedy, Crime, Romance' 'Comedy, Drama, Sport'\n",
      " 'Documentary, Crime, History' 'Musical, Mystery, Drama'\n",
      " 'Drama, Family, Thriller' 'Drama, Musical, Thriller'\n",
      " 'Animation, Action, Comedy' 'Drama, Fantasy, Sci-Fi' 'Comedy, Crime'\n",
      " 'Drama, Family, Sport' 'Comedy, Fantasy, Romance'\n",
      " 'Action, Adventure, History' 'Comedy, Family, Romance'\n",
      " 'Animation, Adventure, Fantasy' 'Adventure, Comedy, Family'\n",
      " 'Drama, History, War' 'Action, Musical, Romance'\n",
      " 'Comedy, Romance, Musical' 'Fantasy, Drama' 'Action, Horror, Sci-Fi'\n",
      " 'Mystery, Sci-Fi, Thriller' 'Biography, Family' 'Drama, Action, Comedy'\n",
      " 'Drama, Music, Romance' 'Action, Biography, Crime'\n",
      " 'Action, Adventure, Crime' 'Adventure, Drama, Musical'\n",
      " 'Adventure, Drama, Sci-Fi' 'Family, Music, Romance'\n",
      " 'Fantasy, Mystery, Romance' 'Animation, Family'\n",
      " 'Action, Adventure, Romance' 'Romance, Comedy, Drama'\n",
      " 'Animation, Adventure, Comedy' 'Music' 'Crime, Drama, Family'\n",
      " 'Family, Drama' 'Comedy, Crime, Mystery' 'Comedy, Mystery'\n",
      " 'Adventure, Drama, Music' 'Biography, Drama, War'\n",
      " 'Musical, Drama, Family' 'Drama, Musical, Family'\n",
      " 'Comedy, Crime, Thriller' 'Action, History' 'Adventure, Drama, Thriller'\n",
      " 'Drama, History, Thriller' 'Documentary, Drama' 'Comedy, Sport'\n",
      " 'Animation, Comedy, Family' 'Drama, Fantasy' 'Crime, Romance, Thriller'\n",
      " 'Comedy, Musical, Action' 'Drama, Horror' 'Comedy, Crime, Musical'\n",
      " 'Drama, Family, Action' 'Biography, History' 'History, Romance'\n",
      " 'Drama, History, Sport' 'Animation, Comedy, Drama'\n",
      " 'Drama, Comedy, Family' 'Family, Drama, Thriller'\n",
      " 'Musical, Mystery, Thriller' 'Music, Romance' 'Musical, Comedy, Romance'\n",
      " 'Musical, Action, Drama' 'Action, Musical, War' 'Romance, Comedy'\n",
      " 'Action, Fantasy, Horror' 'Crime, Drama, History' 'Comedy, Drama, Horror'\n",
      " 'Crime, Horror, Thriller' 'Comedy, Sci-Fi' 'Romance, Action, Crime'\n",
      " 'Musical, Thriller' 'Action, Romance, Comedy' 'Comedy, Family, Musical'\n",
      " 'Horror, Drama, Mystery' 'Thriller, Mystery, Family'\n",
      " 'Comedy, Drama, Sci-Fi' 'Documentary, Biography, Crime' 'Comedy, Fantasy'\n",
      " 'Action, Crime, Sci-Fi' 'Action, Horror, Mystery' 'Comedy, War'\n",
      " 'Drama, Fantasy, History' 'Drama, Family, Mystery' 'Adventure, Romance'\n",
      " 'Romance, Action, Drama' 'Comedy, Music, Romance'\n",
      " 'Comedy, Family, Sci-Fi' 'Action, Drama, Western'\n",
      " 'Comedy, Drama, Mystery' 'Action, Romance, Drama'\n",
      " 'Biography, Comedy, Drama' 'Action, Mystery, Romance' 'Action, Musical'\n",
      " 'Drama, Family, History' 'Crime, Musical, Romance'\n",
      " 'Romance, Thriller, Mystery' 'Drama, Crime, Mystery'\n",
      " 'Drama, Mystery, Romance' 'Biography, Drama, Family'\n",
      " 'Action, Family, Mystery' 'Animation, Adventure, Family'\n",
      " 'Comedy, Mystery, Romance' 'Drama, Thriller, Action'\n",
      " 'Drama, Romance, Sport' 'Musical, Family, Drama' 'Drama, Fantasy, Horror'\n",
      " 'Action, Adventure, Sci-Fi' 'Drama, Action, Musical'\n",
      " 'Drama, Musical, Sport' 'Action, Comedy, Horror' 'Documentary, Music'\n",
      " 'Drama, Fantasy, Musical' 'Action, Fantasy, Musical' 'Animation, Action'\n",
      " 'Comedy, Music' 'Action, Fantasy' 'Fantasy, Musical, Mystery'\n",
      " 'Adventure, Family, Fantasy' 'Drama, Fantasy, War' 'Action, War'\n",
      " 'Animation, Family, Musical' 'Adventure, Biography, Drama'\n",
      " 'Drama, Romance, Family' 'Family, Romance, Drama'\n",
      " 'Drama, Adventure, Action' 'Comedy, Crime, Family'\n",
      " 'Biography, Drama, Thriller' 'Action, Comedy, Mystery'\n",
      " 'Romance, Sci-Fi, Thriller' 'Drama, Fantasy, Mystery' 'Thriller, Action'\n",
      " 'Fantasy, Thriller, Action' 'Fantasy, Romance' 'Action, Mystery'\n",
      " 'Adventure, Biography, History' 'Fantasy, Horror, Mystery'\n",
      " 'Crime, Horror, Mystery' 'Action, Adventure, Biography'\n",
      " 'Action, Family, Drama' 'Thriller, Mystery' 'Musical, Drama, Comedy'\n",
      " 'Documentary, Family' 'Action, Fantasy, Sci-Fi' 'Drama, Comedy, Action'\n",
      " 'Documentary, Sport' 'Adventure, History, Thriller'\n",
      " 'Documentary, Biography' 'Adventure, Horror, Romance'\n",
      " 'Mystery, Musical, Romance' 'Action, Adventure, Horror'\n",
      " 'Action, Crime, History' 'Sci-Fi, Thriller'\n",
      " 'Documentary, Family, History' 'Fantasy, Horror'\n",
      " 'Animation, Drama, Musical' 'Action, Crime, Fantasy'\n",
      " 'Comedy, Musical, Mystery' 'Romance, Musical, Action' 'Crime, Romance'\n",
      " 'Animation, Family, History' 'Romance, Musical, Comedy'\n",
      " 'Comedy, Drama, History' 'Action, Thriller, War'\n",
      " 'Animation, Drama, Adventure' 'Drama, Mystery, Sci-Fi'\n",
      " 'Crime, Horror, Romance' 'Fantasy, Horror, Romance'\n",
      " 'Comedy, Fantasy, Musical' 'Animation, Action, Drama'\n",
      " 'Crime, Musical, Thriller' 'Action, Comedy, War' 'Mystery, Sci-Fi'\n",
      " 'Horror, Romance, Sci-Fi' 'Romance, Musical, Drama'\n",
      " 'Documentary, Biography, Musical']\n",
      "\n",
      "Unique values in 'Director':\n",
      "['Gaurav Bakshi' 'Ovais Khan' 'Rahul Rawail' ... 'Tariq Bhat'\n",
      " 'Sumitra Bhave' 'Mozez Singh']\n",
      "\n",
      "Unique values in 'Actor 1':\n",
      "['Rasika Dugal' 'Prateik' 'Bobby Deol' ... 'Sadhana Singh'\n",
      " 'Sunil Sukthankar' 'Darsheel Safary']\n",
      "\n",
      "Unique values in 'Actor 2':\n",
      "['Vivek Ghamande' 'Ishita Raj' 'Aishwarya Rai Bachchan' ...\n",
      " 'Prince Daniel' 'Sarah Jane Dias' 'Jayamalini']\n",
      "\n",
      "Unique values in 'Actor 3':\n",
      "['Arvind Jangid' 'Siddhant Kapoor' 'Shammi Kapoor' ... 'Priyanka Mehta'\n",
      " 'Rajesh Puri' 'Shatakshi Gupta']\n"
     ]
    }
   ],
   "source": [
    "# Encode categorical variables like genre, director, and actors using one-hot encoding\n",
    "categorical_features = ['Genre', 'Director', 'Actor 1', 'Actor 2', 'Actor 3']\n",
    "numerical_features = ['Duration']  # Example numerical features\n",
    "\n",
    "preprocessor = ColumnTransformer(\n",
    "    transformers=[\n",
    "        ('num', 'passthrough', numerical_features),\n",
    "        ('cat', OneHotEncoder(handle_unknown='ignore'), categorical_features)\n",
    "    ]\n",
    ")\n",
    "\n",
    "# Printing unique values of categorical columns to understand the data better\n",
    "print(\"\\nUnique values in 'Genre':\")\n",
    "print(df['Genre'].unique())\n",
    "print(\"\\nUnique values in 'Director':\")\n",
    "print(df['Director'].unique())\n",
    "print(\"\\nUnique values in 'Actor 1':\")\n",
    "print(df['Actor 1'].unique())\n",
    "print(\"\\nUnique values in 'Actor 2':\")\n",
    "print(df['Actor 2'].unique())\n",
    "print(\"\\nUnique values in 'Actor 3':\")\n",
    "print(df['Actor 3'].unique())"
   ]
  },
  {
   "cell_type": "markdown",
   "metadata": {},
   "source": [
    "# Feature Engineering\n",
    "- Create or transform features if needed. For example, we can create a feature that counts the number of actors\n"
   ]
  },
  {
   "cell_type": "code",
   "execution_count": 10,
   "metadata": {},
   "outputs": [],
   "source": [
    "df['num_actors'] = df[['Actor 1', 'Actor 2', 'Actor 3']].notna().sum(axis=1)"
   ]
  },
  {
   "cell_type": "code",
   "execution_count": 11,
   "metadata": {},
   "outputs": [],
   "source": [
    "# Ensure numerical columns are of numeric type\n",
    "df[numerical_features] = df[numerical_features].apply(pd.to_numeric, errors='coerce')"
   ]
  },
  {
   "cell_type": "code",
   "execution_count": 12,
   "metadata": {},
   "outputs": [],
   "source": [
    "# Ensure target column exists and is of numeric type\n",
    "if 'Rating' not in df.columns:\n",
    "    raise ValueError(\"The 'Rating' column is not present in the dataset.\")\n",
    "df['Rating'] = pd.to_numeric(df['Rating'], errors='coerce')"
   ]
  },
  {
   "cell_type": "code",
   "execution_count": 13,
   "metadata": {},
   "outputs": [],
   "source": [
    "# Splitting the data into training and testing sets\n",
    "X = df.drop('Rating', axis=1)\n",
    "y = df['Rating']\n",
    "X_train, X_test, y_train, y_test = train_test_split(X, y, test_size=0.2, random_state=42)"
   ]
  },
  {
   "cell_type": "code",
   "execution_count": 14,
   "metadata": {},
   "outputs": [
    {
     "ename": "ValueError",
     "evalue": "There are still missing values in the data.",
     "output_type": "error",
     "traceback": [
      "\u001b[0;31m---------------------------------------------------------------------------\u001b[0m",
      "\u001b[0;31mValueError\u001b[0m                                Traceback (most recent call last)",
      "Cell \u001b[0;32mIn[14], line 3\u001b[0m\n\u001b[1;32m      1\u001b[0m \u001b[38;5;66;03m# Check if there are any remaining missing values after dropping/handling\u001b[39;00m\n\u001b[1;32m      2\u001b[0m \u001b[38;5;28;01mif\u001b[39;00m df\u001b[38;5;241m.\u001b[39misnull()\u001b[38;5;241m.\u001b[39msum()\u001b[38;5;241m.\u001b[39many():\n\u001b[0;32m----> 3\u001b[0m     \u001b[38;5;28;01mraise\u001b[39;00m \u001b[38;5;167;01mValueError\u001b[39;00m(\u001b[38;5;124m\"\u001b[39m\u001b[38;5;124mThere are still missing values in the data.\u001b[39m\u001b[38;5;124m\"\u001b[39m)\n\u001b[1;32m      5\u001b[0m \u001b[38;5;66;03m# Building a regression model using a pipeline to streamline preprocessing and model training\u001b[39;00m\n\u001b[1;32m      6\u001b[0m pipeline \u001b[38;5;241m=\u001b[39m Pipeline(steps\u001b[38;5;241m=\u001b[39m[\n\u001b[1;32m      7\u001b[0m     (\u001b[38;5;124m'\u001b[39m\u001b[38;5;124mpreprocessor\u001b[39m\u001b[38;5;124m'\u001b[39m, preprocessor),\n\u001b[1;32m      8\u001b[0m     (\u001b[38;5;124m'\u001b[39m\u001b[38;5;124mregressor\u001b[39m\u001b[38;5;124m'\u001b[39m, LinearRegression())\n\u001b[1;32m      9\u001b[0m ])\n",
      "\u001b[0;31mValueError\u001b[0m: There are still missing values in the data."
     ]
    }
   ],
   "source": [
    "# Check if there are any remaining missing values after dropping/handling\n",
    "if df.isnull().sum().any():\n",
    "    raise ValueError(\"There are still missing values in the data.\")\n",
    "\n",
    "# Building a regression model using a pipeline to streamline preprocessing and model training\n",
    "pipeline = Pipeline(steps=[\n",
    "    ('preprocessor', preprocessor),\n",
    "    ('regressor', LinearRegression())\n",
    "])\n",
    "\n",
    "pipeline.fit(X_train, y_train)\n",
    "\n",
    "# Evaluating the model using metrics like Mean Squared Error (MSE) and R-squared (R²)\n",
    "y_pred = pipeline.predict(X_test)\n",
    "\n",
    "mse = mean_squared_error(y_test, y_pred)\n",
    "r2 = r2_score(y_test, y_pred)\n",
    "\n",
    "print(f'\\nMean Squared Error: {mse}')\n",
    "print(f'R-squared: {r2}')\n",
    "\n",
    "# Interpreting the results and considering ways to improve the model, such as using more sophisticated models like Random Forest, Gradient Boosting, or neural networks"
   ]
  },
  {
   "cell_type": "code",
   "execution_count": null,
   "metadata": {},
   "outputs": [],
   "source": []
  }
 ],
 "metadata": {
  "kernelspec": {
   "display_name": "dsvn",
   "language": "python",
   "name": "python3"
  },
  "language_info": {
   "codemirror_mode": {
    "name": "ipython",
    "version": 3
   },
   "file_extension": ".py",
   "mimetype": "text/x-python",
   "name": "python",
   "nbconvert_exporter": "python",
   "pygments_lexer": "ipython3",
   "version": "3.11.2"
  }
 },
 "nbformat": 4,
 "nbformat_minor": 2
}
